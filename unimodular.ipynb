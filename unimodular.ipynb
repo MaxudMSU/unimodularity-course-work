{
 "cells": [
  {
   "cell_type": "code",
   "execution_count": 2,
   "id": "658affd2",
   "metadata": {},
   "outputs": [],
   "source": [
    "R.<x> = QQ[]\n",
    "Rff = R.fraction_field()\n",
    "der = R.derivation()\n",
    "\n",
    "A.<D> = R['D',der]\n",
    "AA = A.fraction_field()"
   ]
  },
  {
   "cell_type": "code",
   "execution_count": 3,
   "id": "5bb2a24c",
   "metadata": {},
   "outputs": [],
   "source": [
    "def null_space_vector(M):\n",
    "    k = kernel(M)\n",
    "    return (list(k.basis_matrix()[0]))\n",
    "\n",
    "def find_t_index(v, delta, n):\n",
    "    appr_delta = [-1 if v[i] == 0 else delta[i] for i in range(n)]\n",
    "\n",
    "    return appr_delta.index(max(appr_delta))\n",
    "\n",
    "def frMat_and_rowRanks(M):\n",
    "    rrs = []\n",
    "    fm = []\n",
    "    for row in M:\n",
    "        rr = max(map(lambda e: 0 if e == 0 else e.degree(), row))\n",
    "        rrs.append(rr)\n",
    "        fr = list(map(lambda e: e.leading_coefficient() if e.degree() == rr else 0, row))\n",
    "        fm.append(fr)\n",
    "    return (matrix(fm), rrs)"
   ]
  },
  {
   "cell_type": "code",
   "execution_count": 4,
   "id": "e73fe140",
   "metadata": {},
   "outputs": [],
   "source": [
    "def rowRed(M):\n",
    "    n = M.nrows()\n",
    "    L = copy(M)\n",
    "    U = identity_matrix(R, n)\n",
    "    U = U.change_ring(A)\n",
    "    U1 = copy(U)\n",
    "    Us = []\n",
    "    Us.append(U1)\n",
    "    frM, rr = frMat_and_rowRanks(L)\n",
    "\n",
    "    while frM.rank() < n:\n",
    "        v = null_space_vector(frM)\n",
    "        t = find_t_index(v, rr, n)\n",
    "        L_t_th_row = sum ([ (0 if v[i] == 0 else v[i]*D^(rr[t]-rr[i])) * L[i] for i in range(n)])\n",
    "        U_t_th_row = sum ([ (0 if v[i] == 0 else v[i]*D^(rr[t]-rr[i])) * U[i] for i in range(n)])\n",
    "        L.set_row(t,L_t_th_row)\n",
    "        U.set_row(t,U_t_th_row)\n",
    "        U1 = copy(U)\n",
    "        frM, rr = frMat_and_rowRanks(L)\n",
    "        Us.append(U1)\n",
    "    return (L, Us, max(rr))"
   ]
  },
  {
   "cell_type": "code",
   "execution_count": 5,
   "id": "3b44ef8b",
   "metadata": {},
   "outputs": [],
   "source": [
    "def isUnimodular(M):\n",
    "    Mrr, Us, ordM = rowRed(M)\n",
    "    return True if ordM == 0 else False"
   ]
  },
  {
   "cell_type": "code",
   "execution_count": 6,
   "id": "71e29e4d",
   "metadata": {},
   "outputs": [],
   "source": [
    "def constructInverse(M):\n",
    "    Mrr, Us, ordM = rowRed(M)\n",
    "    if ordM != 0:\n",
    "        return False\n",
    "    else:\n",
    "        Mrr_new = Mrr.change_ring(AA)\n",
    "        Mrr_1 = ~Mrr_new\n",
    "        M_inv = Mrr_1 * Us[-1]\n",
    "        return M_inv"
   ]
  },
  {
   "cell_type": "code",
   "execution_count": 7,
   "id": "78c4681e",
   "metadata": {},
   "outputs": [],
   "source": [
    "L = matrix([[D^3+x,2*D^2, x^2+x],[D^2, x*D^2, 2*x^2+1],[D, x*D, 1]])\n",
    "X = matrix([[x^2/2,-x/2*D+1],[-x*D-3, D^2]])\n",
    "Y = matrix([[D^2, x/2*D],[x*D+1,x^2/2]])\n",
    "Z = matrix([[1/12, D + 1/3*(2+x^2)],[1/4,3*D+x^2+1]])"
   ]
  },
  {
   "cell_type": "code",
   "execution_count": 9,
   "id": "c56c8548",
   "metadata": {},
   "outputs": [
    {
     "data": {
      "text/plain": [
       "False"
      ]
     },
     "execution_count": 9,
     "metadata": {},
     "output_type": "execute_result"
    }
   ],
   "source": [
    "constructInverse(L)"
   ]
  },
  {
   "cell_type": "code",
   "execution_count": null,
   "id": "bca24a77",
   "metadata": {},
   "outputs": [],
   "source": []
  }
 ],
 "metadata": {
  "kernelspec": {
   "display_name": "SageMath 10.0.beta9",
   "language": "sage",
   "name": "sagemath"
  },
  "language_info": {
   "codemirror_mode": {
    "name": "ipython",
    "version": 3
   },
   "file_extension": ".py",
   "mimetype": "text/x-python",
   "name": "python",
   "nbconvert_exporter": "python",
   "pygments_lexer": "ipython3",
   "version": "3.11.1"
  }
 },
 "nbformat": 4,
 "nbformat_minor": 5
}
