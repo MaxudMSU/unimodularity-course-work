{
 "cells": [
  {
   "cell_type": "code",
   "execution_count": 33,
   "id": "a4689e20",
   "metadata": {},
   "outputs": [],
   "source": [
    "import numpy as np"
   ]
  },
  {
   "cell_type": "code",
   "execution_count": 1,
   "id": "658affd2",
   "metadata": {},
   "outputs": [],
   "source": [
    "R.<x> = QQ[]\n",
    "der = R.derivation()\n",
    "\n",
    "A.<D> = R['D',der]"
   ]
  },
  {
   "cell_type": "code",
   "execution_count": null,
   "id": "a1bf138c",
   "metadata": {},
   "outputs": [],
   "source": [
    "OM = MatrixSpace(A, 2)"
   ]
  },
  {
   "cell_type": "code",
   "execution_count": null,
   "id": "276c1557",
   "metadata": {
    "scrolled": false
   },
   "outputs": [],
   "source": [
    "RM = OM.random_element(density=1)\n",
    "\n",
    "# while 1:\n",
    "#     RM = OM.random_element(density=4)\n",
    "#     rrM, UM, r = rowRed(RM)\n",
    "#     if r == 0 and RM != rrM:\n",
    "#         print(RM)\n",
    "#         print(rrM)\n",
    "#         print(rrM.determinant())"
   ]
  },
  {
   "cell_type": "code",
   "execution_count": 3,
   "id": "5bb2a24c",
   "metadata": {},
   "outputs": [],
   "source": [
    "def null_space_vector(M):\n",
    "    k = kernel(M)\n",
    "    return (list(k.basis_matrix()[0]))\n",
    "\n",
    "def find_t_index(v, delta, n):\n",
    "    appr_delta = [-1 if v[i] == 0 else delta[i] for i in range(n)]\n",
    "\n",
    "    return appr_delta.index(max(appr_delta))\n",
    "\n",
    "def frMat_and_rowRanks(M):\n",
    "    rrs = []\n",
    "    fm = []\n",
    "    for row in M:\n",
    "        rr = max(map(lambda e: 0 if e == 0 else e.degree(), row))\n",
    "        rrs.append(rr)\n",
    "        fr = list(map(lambda e: e.leading_coefficient() if e.degree() == rr else 0, row))\n",
    "        fm.append(fr)\n",
    "    return (matrix(fm), rrs)"
   ]
  },
  {
   "cell_type": "code",
   "execution_count": 12,
   "id": "e73fe140",
   "metadata": {},
   "outputs": [],
   "source": [
    "def rowRed(M):\n",
    "    n = M.nrows()\n",
    "    L = copy(M)\n",
    "    U = identity_matrix(R, n)\n",
    "    U = U.change_ring(A)\n",
    "    U1 = copy(U)\n",
    "    Us = []\n",
    "    Us.append(U1)\n",
    "#     print(Us)\n",
    "    frM, rr = frMat_and_rowRanks(L)\n",
    "\n",
    "    while frM.rank() < n:\n",
    "#     for i in range(4):\n",
    "        v = null_space_vector(frM)\n",
    "        t = find_t_index(v, rr, n)\n",
    "        L_t_th_row = sum ([ (0 if v[i] == 0 else v[i]*D^(rr[t]-rr[i])) * L[i] for i in range(n)])\n",
    "        U_t_th_row = sum ([ (0 if v[i] == 0 else v[i]*D^(rr[t]-rr[i])) * U[i] for i in range(n)])\n",
    "        L.set_row(t,L_t_th_row)\n",
    "        U.set_row(t,U_t_th_row)\n",
    "        U1 = copy(U)\n",
    "        frM, rr = frMat_and_rowRanks(L)\n",
    "        Us.append(U1)\n",
    "#         print(Us)\n",
    "#         print(U)\n",
    "#         print(L)\n",
    "#         print(frM)\n",
    "#         print('v: ', v)\n",
    "#         print('t: ', t)\n",
    "#         print('delta: ',rr)\n",
    "#         print('-------')\n",
    "    return (L, Us, max(rr))"
   ]
  },
  {
   "cell_type": "code",
   "execution_count": 227,
   "id": "3b44ef8b",
   "metadata": {},
   "outputs": [],
   "source": [
    "def isUnimodular(M):\n",
    "    Mrr, Us, ordM = rowRed(M)\n",
    "    return True if ordM == 0 else False"
   ]
  },
  {
   "cell_type": "code",
   "execution_count": null,
   "id": "aeb11701",
   "metadata": {},
   "outputs": [],
   "source": [
    "L = matrix([[D^3+x,2*D^2, x^2+x],[D^2, x*D^2, 2*x^2+1],[D, x*D, 1]])"
   ]
  },
  {
   "cell_type": "code",
   "execution_count": 37,
   "id": "4c833ef4",
   "metadata": {},
   "outputs": [],
   "source": [
    "X = matrix([[x^2/2,-x/2*D+1],[-x*D-3, D^2]])\n",
    "Y = matrix([[D^2, x/2*D],[x*D+1,x^2/2]])"
   ]
  },
  {
   "cell_type": "code",
   "execution_count": null,
   "id": "dbaa5314",
   "metadata": {},
   "outputs": [],
   "source": [
    "Ex = matrix([[-1,0],[-3*D^2 - D + 3, x^2 + x]])\n",
    "Ex2 = matrix([[3/10*x^2 + 1/3*x + 2, 1/2*x],[1/7*x^2 - 8*x - 1, 2/67*x]])\n",
    "Ex3 = matrix([[-4, 1/12*x + 8],[-2, -x - 1]])"
   ]
  },
  {
   "cell_type": "code",
   "execution_count": null,
   "id": "1c08f2ce",
   "metadata": {},
   "outputs": [],
   "source": [
    "ExBad = matrix([[0,0],[(-x^2 + x + 1/12)*D, 0]])"
   ]
  },
  {
   "cell_type": "code",
   "execution_count": 224,
   "id": "9f95e9a1",
   "metadata": {},
   "outputs": [
    {
     "name": "stdout",
     "output_type": "stream",
     "text": [
      "[            -1              0]\n",
      "[-3*D^2 - D + 3        x^2 + x]\n",
      "-x^2 - x\n"
     ]
    }
   ],
   "source": [
    "# isUnimodular(Ex)\n",
    "print(Ex)\n",
    "RREx, UsEx, _ = rowRed(Ex)\n",
    "print(RREx.determinant())"
   ]
  },
  {
   "cell_type": "code",
   "execution_count": 67,
   "id": "19557b8d",
   "metadata": {},
   "outputs": [
    {
     "data": {
      "text/plain": [
       "[    0   1/2]\n",
       "[1/2*x     0]"
      ]
     },
     "execution_count": 67,
     "metadata": {},
     "output_type": "execute_result"
    }
   ],
   "source": [
    "# print(X)\n",
    "RRX, UX, _ = rowRed(X)\n",
    "RRX\n",
    "\n",
    "# print(RRX.determinant())\n",
    "# print(UX)\n",
    "# print(RRX.adjugate())\n",
    "# fX, _ = frMat_and_rowRanks(X)\n",
    "# fX\n",
    "# v = null_space_vector(fX)\n",
    "# fX.kernel()\n",
    "# nullv = vector(v)*fX\n",
    "# nullv = vector([0,0])\n",
    "# X.solve_left(nullv)\n",
    "# nullv\n",
    "# v"
   ]
  },
  {
   "cell_type": "code",
   "execution_count": 281,
   "id": "88b5203d",
   "metadata": {},
   "outputs": [
    {
     "data": {
      "text/plain": [
       "[                       1/8*x^3                  1/4*x*D + 1/4]\n",
       "[-1/8*x^3*D + 1/8*x^3 - 3/8*x^2   -1/4*x*D^2 + (1/4*x - 1/2)*D]"
      ]
     },
     "execution_count": 281,
     "metadata": {},
     "output_type": "execute_result"
    }
   ],
   "source": [
    "_, UsX, _ = rowRed(X)\n",
    "UsX[1]*UsX[2]*UsX[3]*X\n",
    "# rowRed(X)"
   ]
  },
  {
   "cell_type": "code",
   "execution_count": 48,
   "id": "7721b86d",
   "metadata": {},
   "outputs": [],
   "source": [
    "fX1 = np.array([[0,-1/2*x],[0, 1]])\n",
    "v1 = np.array([-1, -1/2*x])\n",
    "nullv1 = np.array([0,0])"
   ]
  },
  {
   "cell_type": "code",
   "execution_count": 47,
   "id": "0f84e00d",
   "metadata": {},
   "outputs": [
    {
     "data": {
      "text/plain": [
       "array([0, 0], dtype=object)"
      ]
     },
     "execution_count": 47,
     "metadata": {},
     "output_type": "execute_result"
    }
   ],
   "source": [
    "# np.dot(v1,fX1)\n",
    "np.linalg.solve()"
   ]
  },
  {
   "cell_type": "code",
   "execution_count": 75,
   "id": "30132bac",
   "metadata": {},
   "outputs": [],
   "source": [
    "# nullM2 = matrix([[0,-1/2*x],[0,1],[1,9]])\n",
    "niuhih = matrix([[2,3,5],[-4,2,3]])"
   ]
  },
  {
   "cell_type": "code",
   "execution_count": 80,
   "id": "1426537d",
   "metadata": {},
   "outputs": [
    {
     "data": {
      "text/plain": [
       "(1, 26, -16)"
      ]
     },
     "execution_count": 80,
     "metadata": {},
     "output_type": "execute_result"
    }
   ],
   "source": [
    "niuhih.right_kernel().basis_matrix()"
   ]
  },
  {
   "cell_type": "code",
   "execution_count": null,
   "id": "b0440fdd",
   "metadata": {},
   "outputs": [],
   "source": []
  }
 ],
 "metadata": {
  "kernelspec": {
   "display_name": "SageMath 10.0.beta9",
   "language": "sage",
   "name": "sagemath"
  },
  "language_info": {
   "codemirror_mode": {
    "name": "ipython",
    "version": 3
   },
   "file_extension": ".py",
   "mimetype": "text/x-python",
   "name": "python",
   "nbconvert_exporter": "python",
   "pygments_lexer": "ipython3",
   "version": "3.11.1"
  }
 },
 "nbformat": 4,
 "nbformat_minor": 5
}
